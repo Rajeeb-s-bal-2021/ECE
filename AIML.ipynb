{
  "nbformat": 4,
  "nbformat_minor": 0,
  "metadata": {
    "colab": {
      "provenance": [],
      "authorship_tag": "ABX9TyNvMpShOqEdJWsEKsMBOE9Y",
      "include_colab_link": true
    },
    "kernelspec": {
      "name": "python3",
      "display_name": "Python 3"
    },
    "language_info": {
      "name": "python"
    }
  },
  "cells": [
    {
      "cell_type": "markdown",
      "metadata": {
        "id": "view-in-github",
        "colab_type": "text"
      },
      "source": [
        "<a href=\"https://colab.research.google.com/github/Rajeeb-s-bal-2021/ECE/blob/main/AIML.ipynb\" target=\"_parent\"><img src=\"https://colab.research.google.com/assets/colab-badge.svg\" alt=\"Open In Colab\"/></a>"
      ]
    },
    {
      "cell_type": "code",
      "execution_count": null,
      "metadata": {
        "colab": {
          "base_uri": "https://localhost:8080/"
        },
        "id": "3oYz3mkQoQHZ",
        "outputId": "869953d1-dca2-41e7-d891-d251fd5f7517"
      },
      "outputs": [
        {
          "output_type": "stream",
          "name": "stdout",
          "text": [
            "HELLO ECE\n"
          ]
        }
      ],
      "source": [
        "print('HELLO ECE')"
      ]
    },
    {
      "cell_type": "code",
      "source": [
        "print('Hello ABIT', end=' ')\n",
        "print('DEPT. of ECE')"
      ],
      "metadata": {
        "colab": {
          "base_uri": "https://localhost:8080/"
        },
        "id": "a9HMC5CSq9qd",
        "outputId": "da3e478d-ef94-4e33-c6cf-2f0e459d2bab"
      },
      "execution_count": null,
      "outputs": [
        {
          "output_type": "stream",
          "name": "stdout",
          "text": [
            "Hello ABIT DEPT. of ECE\n"
          ]
        }
      ]
    },
    {
      "cell_type": "code",
      "source": [
        "# Using of sep='' in print().\n",
        "a=7\n",
        "b=1\n",
        "c=2023\n",
        "print(a,b,c, sep='-')"
      ],
      "metadata": {
        "colab": {
          "base_uri": "https://localhost:8080/"
        },
        "id": "WqUXLSOmsEZ8",
        "outputId": "39bce4cf-f35c-422e-aa71-e2ec3266e2b8"
      },
      "execution_count": null,
      "outputs": [
        {
          "output_type": "stream",
          "name": "stdout",
          "text": [
            "7-1-2023\n"
          ]
        }
      ]
    },
    {
      "cell_type": "code",
      "source": [
        "a=2+5j\n",
        "print(a)\n",
        "b=3+10j\n",
        "c=a+b\n",
        "print(c)"
      ],
      "metadata": {
        "id": "ddLr6gajmgW0",
        "outputId": "b1051496-a079-4739-fbde-c73c09b2dd0c",
        "colab": {
          "base_uri": "https://localhost:8080/"
        }
      },
      "execution_count": null,
      "outputs": [
        {
          "output_type": "stream",
          "name": "stdout",
          "text": [
            "(2+5j)\n",
            "(5+15j)\n"
          ]
        }
      ]
    },
    {
      "cell_type": "code",
      "source": [
        "x = 0b10100 \n",
        "y = 100    \n",
        "z = 0o215   \n",
        "u = 0x12d   \n",
        "#Float Literal  \n",
        "float_1 = 100.5   \n",
        "float_2 = 1.5e2  \n",
        "#Complex Literal   \n",
        "a = 5+3.14j  \n",
        "print(x, y, z, u)  \n",
        "print(float_1, float_2)  \n",
        "print(a, a.imag, a.real)  "
      ],
      "metadata": {
        "colab": {
          "base_uri": "https://localhost:8080/"
        },
        "id": "e9oE5tcTuR1f",
        "outputId": "ba4753e0-6de6-4609-c17f-596c9b353378"
      },
      "execution_count": 1,
      "outputs": [
        {
          "output_type": "stream",
          "name": "stdout",
          "text": [
            "20 100 141 301\n",
            "100.5 150.0\n",
            "(5+3.14j) 3.14 5.0\n"
          ]
        }
      ]
    },
    {
      "cell_type": "code",
      "source": [
        "a=23+5j\n",
        "b=2+5.12j\n",
        "c=a+b\n",
        "print(c)"
      ],
      "metadata": {
        "colab": {
          "base_uri": "https://localhost:8080/"
        },
        "id": "z0g15i4RxKzL",
        "outputId": "0c31dc1a-a9e6-4655-e276-797d28027505"
      },
      "execution_count": 2,
      "outputs": [
        {
          "output_type": "stream",
          "name": "stdout",
          "text": [
            "(25+10.120000000000001j)\n"
          ]
        }
      ]
    },
    {
      "cell_type": "code",
      "source": [
        "a=int(input('Enter 1st no ='))\n",
        "b=int(input('Enter 2nd no ='))\n",
        "c=a+b\n",
        "print('c =',c)"
      ],
      "metadata": {
        "colab": {
          "base_uri": "https://localhost:8080/"
        },
        "id": "0FKsv4-XyCcR",
        "outputId": "188d732f-0d9c-4c98-917f-73ab53e9218d"
      },
      "execution_count": 4,
      "outputs": [
        {
          "output_type": "stream",
          "name": "stdout",
          "text": [
            "Enter 1st no =12\n",
            "Enter 2nd no =13\n",
            "c = 25\n"
          ]
        }
      ]
    },
    {
      "cell_type": "code",
      "source": [
        "# Using of / , // and ** in Arithmetic Operator\n",
        "a=2\n",
        "b=4\n",
        "c=a/b\n",
        "print(c)\n",
        "d=a//b\n",
        "print(d)\n",
        "e=a**b\n",
        "print(e)\n"
      ],
      "metadata": {
        "colab": {
          "base_uri": "https://localhost:8080/"
        },
        "id": "8atcQB4r0Dn_",
        "outputId": "a63fbf4e-bc2e-4563-eaa5-6b252132a2bd"
      },
      "execution_count": 5,
      "outputs": [
        {
          "output_type": "stream",
          "name": "stdout",
          "text": [
            "0.5\n",
            "0\n",
            "16\n"
          ]
        }
      ]
    }
  ]
}